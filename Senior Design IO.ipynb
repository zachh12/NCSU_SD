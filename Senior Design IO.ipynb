{
 "cells": [
  {
   "cell_type": "code",
   "execution_count": 28,
   "metadata": {},
   "outputs": [],
   "source": [
    "import numpy as np\n",
    "import matplotlib.pyplot as plt\n",
    "import time\n",
    "import serial\n",
    "import datetime\n",
    "import sys"
   ]
  },
  {
   "cell_type": "code",
   "execution_count": 29,
   "metadata": {},
   "outputs": [],
   "source": [
    "# 1 rev = dist traveled is pitch of threaded rod\n",
    "\n",
    "pitch = .8 # distance between threads in metric units (cm)\n",
    "step_ang = 1.8 # degrees\n",
    "steps_per_rev_x = 400 # number of steps to travel the distance equivalent to pitch\n",
    "steps_per_rev_y = 400 # number of steps to travel the distance equivalent to pitch"
   ]
  },
  {
   "cell_type": "code",
   "execution_count": 75,
   "metadata": {},
   "outputs": [],
   "source": [
    "# Establish a serial connection with Arduino\n",
    "\n",
    "ser = serial.Serial('/dev/cu.usbmodem14201', 9600)"
   ]
  },
  {
   "cell_type": "code",
   "execution_count": 76,
   "metadata": {},
   "outputs": [
    {
     "ename": "SerialException",
     "evalue": "read failed: [Errno 6] Device not configured",
     "output_type": "error",
     "traceback": [
      "\u001b[0;31m---------------------------------------------------------------------------\u001b[0m",
      "\u001b[0;31mOSError\u001b[0m                                   Traceback (most recent call last)",
      "\u001b[0;32m/anaconda3/lib/python3.6/site-packages/serial/serialposix.py\u001b[0m in \u001b[0;36mread\u001b[0;34m(self, size)\u001b[0m\n\u001b[1;32m    492\u001b[0m                     \u001b[0;32mbreak\u001b[0m   \u001b[0;31m# timeout\u001b[0m\u001b[0;34m\u001b[0m\u001b[0;34m\u001b[0m\u001b[0m\n\u001b[0;32m--> 493\u001b[0;31m                 \u001b[0mbuf\u001b[0m \u001b[0;34m=\u001b[0m \u001b[0mos\u001b[0m\u001b[0;34m.\u001b[0m\u001b[0mread\u001b[0m\u001b[0;34m(\u001b[0m\u001b[0mself\u001b[0m\u001b[0;34m.\u001b[0m\u001b[0mfd\u001b[0m\u001b[0;34m,\u001b[0m \u001b[0msize\u001b[0m \u001b[0;34m-\u001b[0m \u001b[0mlen\u001b[0m\u001b[0;34m(\u001b[0m\u001b[0mread\u001b[0m\u001b[0;34m)\u001b[0m\u001b[0;34m)\u001b[0m\u001b[0;34m\u001b[0m\u001b[0;34m\u001b[0m\u001b[0m\n\u001b[0m\u001b[1;32m    494\u001b[0m                 \u001b[0;31m# read should always return some data as select reported it was\u001b[0m\u001b[0;34m\u001b[0m\u001b[0;34m\u001b[0m\u001b[0;34m\u001b[0m\u001b[0m\n",
      "\u001b[0;31mOSError\u001b[0m: [Errno 6] Device not configured",
      "\nDuring handling of the above exception, another exception occurred:\n",
      "\u001b[0;31mSerialException\u001b[0m                           Traceback (most recent call last)",
      "\u001b[0;32m<ipython-input-76-4234944791eb>\u001b[0m in \u001b[0;36m<module>\u001b[0;34m()\u001b[0m\n\u001b[1;32m     10\u001b[0m \u001b[0mcount\u001b[0m \u001b[0;34m=\u001b[0m \u001b[0;36m0\u001b[0m\u001b[0;34m\u001b[0m\u001b[0;34m\u001b[0m\u001b[0m\n\u001b[1;32m     11\u001b[0m \u001b[0;32mwhile\u001b[0m \u001b[0mcount\u001b[0m \u001b[0;34m<\u001b[0m \u001b[0;36m1\u001b[0m\u001b[0;34m:\u001b[0m\u001b[0;34m\u001b[0m\u001b[0;34m\u001b[0m\u001b[0m\n\u001b[0;32m---> 12\u001b[0;31m     \u001b[0mstepsx_tot\u001b[0m \u001b[0;34m=\u001b[0m \u001b[0;34m(\u001b[0m\u001b[0mstr\u001b[0m\u001b[0;34m(\u001b[0m\u001b[0mser\u001b[0m\u001b[0;34m.\u001b[0m\u001b[0mreadline\u001b[0m\u001b[0;34m(\u001b[0m\u001b[0;34m)\u001b[0m\u001b[0;34m)\u001b[0m\u001b[0;34m)\u001b[0m\u001b[0;34m\u001b[0m\u001b[0;34m\u001b[0m\u001b[0m\n\u001b[0m\u001b[1;32m     13\u001b[0m     \u001b[0mstepsy_tot\u001b[0m \u001b[0;34m=\u001b[0m \u001b[0;34m(\u001b[0m\u001b[0mstr\u001b[0m\u001b[0;34m(\u001b[0m\u001b[0mser\u001b[0m\u001b[0;34m.\u001b[0m\u001b[0mreadline\u001b[0m\u001b[0;34m(\u001b[0m\u001b[0;34m)\u001b[0m\u001b[0;34m)\u001b[0m\u001b[0;34m)\u001b[0m\u001b[0;34m\u001b[0m\u001b[0;34m\u001b[0m\u001b[0m\n\u001b[1;32m     14\u001b[0m     \u001b[0mcount\u001b[0m \u001b[0;34m+=\u001b[0m\u001b[0;36m1\u001b[0m\u001b[0;34m\u001b[0m\u001b[0;34m\u001b[0m\u001b[0m\n",
      "\u001b[0;32m/anaconda3/lib/python3.6/site-packages/serial/serialposix.py\u001b[0m in \u001b[0;36mread\u001b[0;34m(self, size)\u001b[0m\n\u001b[1;32m    507\u001b[0m                 \u001b[0;31m# https://www.python.org/dev/peps/pep-0475.\u001b[0m\u001b[0;34m\u001b[0m\u001b[0;34m\u001b[0m\u001b[0;34m\u001b[0m\u001b[0m\n\u001b[1;32m    508\u001b[0m                 \u001b[0;32mif\u001b[0m \u001b[0me\u001b[0m\u001b[0;34m.\u001b[0m\u001b[0merrno\u001b[0m \u001b[0;32mnot\u001b[0m \u001b[0;32min\u001b[0m \u001b[0;34m(\u001b[0m\u001b[0merrno\u001b[0m\u001b[0;34m.\u001b[0m\u001b[0mEAGAIN\u001b[0m\u001b[0;34m,\u001b[0m \u001b[0merrno\u001b[0m\u001b[0;34m.\u001b[0m\u001b[0mEALREADY\u001b[0m\u001b[0;34m,\u001b[0m \u001b[0merrno\u001b[0m\u001b[0;34m.\u001b[0m\u001b[0mEWOULDBLOCK\u001b[0m\u001b[0;34m,\u001b[0m \u001b[0merrno\u001b[0m\u001b[0;34m.\u001b[0m\u001b[0mEINPROGRESS\u001b[0m\u001b[0;34m,\u001b[0m \u001b[0merrno\u001b[0m\u001b[0;34m.\u001b[0m\u001b[0mEINTR\u001b[0m\u001b[0;34m)\u001b[0m\u001b[0;34m:\u001b[0m\u001b[0;34m\u001b[0m\u001b[0;34m\u001b[0m\u001b[0m\n\u001b[0;32m--> 509\u001b[0;31m                     \u001b[0;32mraise\u001b[0m \u001b[0mSerialException\u001b[0m\u001b[0;34m(\u001b[0m\u001b[0;34m'read failed: {}'\u001b[0m\u001b[0;34m.\u001b[0m\u001b[0mformat\u001b[0m\u001b[0;34m(\u001b[0m\u001b[0me\u001b[0m\u001b[0;34m)\u001b[0m\u001b[0;34m)\u001b[0m\u001b[0;34m\u001b[0m\u001b[0;34m\u001b[0m\u001b[0m\n\u001b[0m\u001b[1;32m    510\u001b[0m             \u001b[0;32mexcept\u001b[0m \u001b[0mselect\u001b[0m\u001b[0;34m.\u001b[0m\u001b[0merror\u001b[0m \u001b[0;32mas\u001b[0m \u001b[0me\u001b[0m\u001b[0;34m:\u001b[0m\u001b[0;34m\u001b[0m\u001b[0;34m\u001b[0m\u001b[0m\n\u001b[1;32m    511\u001b[0m                 \u001b[0;31m# this is for Python 2.x\u001b[0m\u001b[0;34m\u001b[0m\u001b[0;34m\u001b[0m\u001b[0;34m\u001b[0m\u001b[0m\n",
      "\u001b[0;31mSerialException\u001b[0m: read failed: [Errno 6] Device not configured"
     ]
    }
   ],
   "source": [
    "# Calibration: returns number of steps it takes to go from one side to the other in x and y\n",
    "\n",
    "cal = 'Calibration' \n",
    "\n",
    "ser.write(str.encode(cal)) #send string to Arduino\n",
    "\n",
    "stepsx_tot = 0\n",
    "stepsy_tot = 0\n",
    "\n",
    "count = 0\n",
    "while count < 1: \n",
    "    stepsx_tot = (str(ser.readline()))\n",
    "    stepsy_tot = (str(ser.readline()))\n",
    "    count +=1\n"
   ]
  },
  {
   "cell_type": "code",
   "execution_count": 32,
   "metadata": {},
   "outputs": [
    {
     "name": "stdout",
     "output_type": "stream",
     "text": [
      "b'10261\\r\\n'\n",
      "b'394\\r\\n'\n"
     ]
    }
   ],
   "source": [
    "# prints number of steps it takes to go from one side to the other in x and y\n",
    "\n",
    "\n",
    "print(stepsx_tot)\n",
    "print(stepsy_tot)\n"
   ]
  },
  {
   "cell_type": "code",
   "execution_count": 50,
   "metadata": {},
   "outputs": [
    {
     "name": "stdout",
     "output_type": "stream",
     "text": [
      "Input direction you wish to move to move collimator to zero position: 'u' for up, 'd' for down, 'l' for left and 'r' for right. When you are done, type 'done'd\n",
      "Input direction you wish to move to move collimator to zero position: 'u' for up, 'd' for down, 'l' for left and 'r' for right. When you are done, type 'done'd\n",
      "Input direction you wish to move to move collimator to zero position: 'u' for up, 'd' for down, 'l' for left and 'r' for right. When you are done, type 'done'd\n",
      "Input direction you wish to move to move collimator to zero position: 'u' for up, 'd' for down, 'l' for left and 'r' for right. When you are done, type 'done'd\n",
      "Input direction you wish to move to move collimator to zero position: 'u' for up, 'd' for down, 'l' for left and 'r' for right. When you are done, type 'done'd\n",
      "Input direction you wish to move to move collimator to zero position: 'u' for up, 'd' for down, 'l' for left and 'r' for right. When you are done, type 'done'd\n",
      "Input direction you wish to move to move collimator to zero position: 'u' for up, 'd' for down, 'l' for left and 'r' for right. When you are done, type 'done'd\n",
      "Input direction you wish to move to move collimator to zero position: 'u' for up, 'd' for down, 'l' for left and 'r' for right. When you are done, type 'done'u\n",
      "Input direction you wish to move to move collimator to zero position: 'u' for up, 'd' for down, 'l' for left and 'r' for right. When you are done, type 'done'u\n",
      "Input direction you wish to move to move collimator to zero position: 'u' for up, 'd' for down, 'l' for left and 'r' for right. When you are done, type 'done'u\n",
      "Input direction you wish to move to move collimator to zero position: 'u' for up, 'd' for down, 'l' for left and 'r' for right. When you are done, type 'done'u\n",
      "Input direction you wish to move to move collimator to zero position: 'u' for up, 'd' for down, 'l' for left and 'r' for right. When you are done, type 'done'u\n",
      "Input direction you wish to move to move collimator to zero position: 'u' for up, 'd' for down, 'l' for left and 'r' for right. When you are done, type 'done'u\n",
      "Input direction you wish to move to move collimator to zero position: 'u' for up, 'd' for down, 'l' for left and 'r' for right. When you are done, type 'done'u\n",
      "Input direction you wish to move to move collimator to zero position: 'u' for up, 'd' for down, 'l' for left and 'r' for right. When you are done, type 'done'done\n"
     ]
    }
   ],
   "source": [
    "# User decides where they want the defined zero position to be from the home position using keyboard inputs to \\\n",
    "# move the collimator. The location from the home position is recorded and stored as variables ZeroX and ZeroY. \n",
    "\n",
    "ZeroX = 0\n",
    "ZeroY = 0\n",
    "\n",
    "while True:\n",
    "    move = input(\"Input direction you wish to move to move collimator to zero position: 'u' for up, 'd' for down, 'l' for left and 'r' for right. When you are done, type 'done'\")\n",
    "    if move == 'u':\n",
    "        ZeroY += pitch\n",
    "        inputy=('y,' + str(steps_per_rev_y) + ',1')\n",
    "        ser.write(str.encode(inputy))\n",
    "    elif move == 'd':\n",
    "        ZeroY -= pitch\n",
    "        inputy=('y,' + str(steps_per_rev_y) + ',0')\n",
    "        ser.write(str.encode(inputy))\n",
    "    elif move == 'r':\n",
    "        ZeroX += pitch\n",
    "        inputx=('x,' + str(steps_per_rev_x) + ',0')\n",
    "        ser.write(str.encode(inputx))\n",
    "    elif move == 'l':\n",
    "        ZeroX -= pitch\n",
    "        inputx=('x,' + str(steps_per_rev_x) + ',1')\n",
    "        ser.write(str.encode(inputx))\n",
    "    elif move == 'done':\n",
    "        break"
   ]
  },
  {
   "cell_type": "code",
   "execution_count": 7,
   "metadata": {},
   "outputs": [
    {
     "data": {
      "text/plain": [
       "\"'\\nprint(ZeroX)\\nprint(ZeroY)\\n\""
      ]
     },
     "execution_count": 7,
     "metadata": {},
     "output_type": "execute_result"
    }
   ],
   "source": [
    "#Prints location of new zero position from home position\n",
    "\n",
    "''''\n",
    "print(ZeroX)\n",
    "print(ZeroY)\n",
    "'''"
   ]
  },
  {
   "cell_type": "code",
   "execution_count": 8,
   "metadata": {},
   "outputs": [],
   "source": [
    "# Determining region to scan from zero position"
   ]
  },
  {
   "cell_type": "code",
   "execution_count": 9,
   "metadata": {},
   "outputs": [
    {
     "name": "stdout",
     "output_type": "stream",
     "text": [
      "Input horizontal distance from center of detector to left end of region you want to scan (in cm) less than 20 cm.5\n"
     ]
    }
   ],
   "source": [
    "Length_L = float(input(\"Input horizontal distance from center of detector to left end of region you want to scan (in cm) less than 20 cm\"))"
   ]
  },
  {
   "cell_type": "code",
   "execution_count": 10,
   "metadata": {},
   "outputs": [
    {
     "name": "stdout",
     "output_type": "stream",
     "text": [
      "Input horizontal distance from center of detector to right end of region you want to scan (in cm) less than 20 cm1\n"
     ]
    }
   ],
   "source": [
    "Length_R = float(input(\"Input horizontal distance from center of detector to right end of region you want to scan (in cm) less than 20 cm\"))"
   ]
  },
  {
   "cell_type": "code",
   "execution_count": 13,
   "metadata": {},
   "outputs": [
    {
     "ename": "SystemExit",
     "evalue": "ERROR: Selected scanning region is too big in the x direction. Readjust left scanning distance.",
     "output_type": "error",
     "traceback": [
      "An exception has occurred, use %tb to see the full traceback.\n",
      "\u001b[0;31mSystemExit\u001b[0m\u001b[0;31m:\u001b[0m ERROR: Selected scanning region is too big in the x direction. Readjust left scanning distance.\n"
     ]
    },
    {
     "name": "stderr",
     "output_type": "stream",
     "text": [
      "/anaconda3/lib/python3.6/site-packages/IPython/core/interactiveshell.py:2971: UserWarning: To exit: use 'exit', 'quit', or Ctrl-D.\n",
      "  warn(\"To exit: use 'exit', 'quit', or Ctrl-D.\", stacklevel=1)\n"
     ]
    }
   ],
   "source": [
    "# Checks to make sure inputs are valid\n",
    "\n",
    "if (Length_L + Length_R) > 20:\n",
    "    sys.exit(\"ERROR: Horizontal distance cannot be greater than 20 cm\")\n",
    "    \n",
    "if (ZeroX + Length_R) > 20:\n",
    "    sys.exit(\"ERROR: Selected scanning region is too big in the x direction. Readjust right scanning distance.\")\n",
    "    \n",
    "if (ZeroX - Length_L) < 0:\n",
    "    sys.exit(\"ERROR: Selected scanning region is too big in the x direction. Readjust left scanning distance.\")"
   ]
  },
  {
   "cell_type": "code",
   "execution_count": 14,
   "metadata": {},
   "outputs": [
    {
     "name": "stdout",
     "output_type": "stream",
     "text": [
      "Input vertical distance from center of detector to bottom end of region you want to scan (in cm) less than 40 cm1\n"
     ]
    }
   ],
   "source": [
    "Height_B = float(input(\"Input vertical distance from center of detector to bottom end of region you want to scan (in cm) less than 40 cm\"))"
   ]
  },
  {
   "cell_type": "code",
   "execution_count": 15,
   "metadata": {},
   "outputs": [
    {
     "name": "stdout",
     "output_type": "stream",
     "text": [
      "Input vertical distance from center of detector to top end of region you want to scan (in cm) less than 40 cm1\n"
     ]
    }
   ],
   "source": [
    "Height_T = float(input(\"Input vertical distance from center of detector to top end of region you want to scan (in cm) less than 40 cm\"))"
   ]
  },
  {
   "cell_type": "code",
   "execution_count": 16,
   "metadata": {},
   "outputs": [
    {
     "ename": "SystemExit",
     "evalue": "ERROR: Selected scanning region is too big in the y direction. Readjust bottom scanning distance.",
     "output_type": "error",
     "traceback": [
      "An exception has occurred, use %tb to see the full traceback.\n",
      "\u001b[0;31mSystemExit\u001b[0m\u001b[0;31m:\u001b[0m ERROR: Selected scanning region is too big in the y direction. Readjust bottom scanning distance.\n"
     ]
    },
    {
     "name": "stderr",
     "output_type": "stream",
     "text": [
      "/anaconda3/lib/python3.6/site-packages/IPython/core/interactiveshell.py:2971: UserWarning: To exit: use 'exit', 'quit', or Ctrl-D.\n",
      "  warn(\"To exit: use 'exit', 'quit', or Ctrl-D.\", stacklevel=1)\n"
     ]
    }
   ],
   "source": [
    "# Checks to make sure inputs are valid\n",
    "\n",
    "if (Height_B + Height_T) > 40:\n",
    "    sys.exit(\"ERROR: Vertical distance cannot be greater than 40 cm\")\n",
    "    \n",
    "if (ZeroY + Height_T) > 40:\n",
    "    sys.exit(\"ERROR: Selected scanning region is too big in the y direction. Readjust top scanning distance.\")\n",
    "    \n",
    "if (ZeroY - Height_B) < 40:\n",
    "    sys.exit(\"ERROR: Selected scanning region is too big in the y direction. Readjust bottom scanning distance.\")"
   ]
  },
  {
   "cell_type": "code",
   "execution_count": 17,
   "metadata": {},
   "outputs": [],
   "source": [
    "# position collimator to starting position in top left corner\n",
    "\n",
    "start_x = Length_L\n",
    "start_y = Height_T"
   ]
  },
  {
   "cell_type": "code",
   "execution_count": 18,
   "metadata": {},
   "outputs": [],
   "source": [
    "# steps to take to travel dist to starting position\n",
    "\n",
    "start_stepsx = (start_x/pitch) * steps_per_rev_x\n",
    "start_stepsy = (start_y/pitch) * steps_per_rev_y"
   ]
  },
  {
   "cell_type": "code",
   "execution_count": 19,
   "metadata": {},
   "outputs": [],
   "source": [
    "# Create a string to send to Arduino telling it which motor to move, how many steps, and in which direction\n",
    "\n",
    "inputx=('x,' + str(start_stepsx) + ',1')\n",
    "inputy=('y,' + str(start_stepsy) + ',1')"
   ]
  },
  {
   "cell_type": "code",
   "execution_count": 20,
   "metadata": {},
   "outputs": [
    {
     "data": {
      "text/plain": [
       "9"
      ]
     },
     "execution_count": 20,
     "metadata": {},
     "output_type": "execute_result"
    }
   ],
   "source": [
    "# Sends the string to the Arduino and motors move\n",
    "\n",
    "ser.write(str.encode(inputx))\n",
    "time.sleep(2)\n",
    "ser.write(str.encode(inputy))"
   ]
  },
  {
   "cell_type": "code",
   "execution_count": 21,
   "metadata": {
    "scrolled": true
   },
   "outputs": [
    {
     "name": "stdout",
     "output_type": "stream",
     "text": [
      "Input the granularity (distance between the center of scanned spots in cm)1\n"
     ]
    }
   ],
   "source": [
    "# granularity - distance between center of scanned spots (in cm)\n",
    "\n",
    "gran = float(input(\"Input the granularity (distance between the center of scanned spots in cm)\"))"
   ]
  },
  {
   "cell_type": "code",
   "execution_count": 22,
   "metadata": {},
   "outputs": [],
   "source": [
    "# Check to make sure that input is valid\n",
    "\n",
    "if gran > (Length_L + Length_R) or gran > (Height_B + Height_T):\n",
    "    sys.exit(\"ERROR: Incompatible input. Granularity cannot be larger than scanning region\")"
   ]
  },
  {
   "cell_type": "code",
   "execution_count": 23,
   "metadata": {},
   "outputs": [
    {
     "name": "stdout",
     "output_type": "stream",
     "text": [
      "Input time for source to be at each collection spot (in seconds)2\n"
     ]
    }
   ],
   "source": [
    "# time for source to be at each position over detector\n",
    "\n",
    "wait = float(input(\"Input time for source to be at each collection spot (in seconds)\"))"
   ]
  },
  {
   "cell_type": "code",
   "execution_count": 24,
   "metadata": {},
   "outputs": [],
   "source": [
    "# Open a text file to store positions and corresponding time during the scan\n",
    "\n",
    "Time_and_Positions = open(r'/Users/Elizabeth/Desktop/sourcepositions.txt', 'w+')"
   ]
  },
  {
   "cell_type": "code",
   "execution_count": 27,
   "metadata": {},
   "outputs": [
    {
     "name": "stdout",
     "output_type": "stream",
     "text": [
      "x = 1.0\n",
      "x = 2.0\n",
      "x = 3.0\n",
      "x = 4.0\n",
      "xend\n",
      "xcount\n",
      "y = 1.0\n",
      "xreset\n",
      "x = 1.0\n",
      "x = 2.0\n",
      "x = 3.0\n",
      "x = 4.0\n",
      "xend\n",
      "xcount\n",
      "y = 0.0\n",
      "xreset\n",
      "x = 1.0\n",
      "x = 2.0\n",
      "x = 3.0\n",
      "x = 4.0\n",
      "yend\n",
      "scan complete\n"
     ]
    }
   ],
   "source": [
    "# Positioning algorithm\n",
    "\n",
    "# Determine total x and y distance traveled. This is used to know whether the collimator has reached the end of \\\n",
    "# the scanning region in x and y directions\n",
    "x_travel_dist = Length_L + Length_R\n",
    "y_travel_dist = Height_B + Height_T\n",
    "\n",
    "#Set starting coordinates of collimator, which will be changed as the collimator moves\n",
    "x_dist = 0\n",
    "y_dist = y_travel_dist\n",
    "\n",
    "x_pos = x_dist + (ZeroX - Length_L)\n",
    "y_pos = y_dist + (ZeroY - Height_B)\n",
    "\n",
    "#Record initial starting place position and time and collect data\n",
    "t=0\n",
    "while t <= wait: #wait over area for specified amount of time so data can be collected\n",
    "    date = datetime.datetime.now().timestamp() #current unix timestamp\n",
    "    Time_and_Positions.write(\"%5.2f %5.2f %5.2f\\n\" % (date, x_dist , y_dist)) #write timestamp and x and y position to text file\n",
    "    time.sleep(1)\n",
    "    t += 1\n",
    "\n",
    "\n",
    "while y_dist >= 0:\n",
    "    if x_dist <= (x_travel_dist + gran):\n",
    "        #move over right to next region to be scanned\n",
    "        move_x = (gran/pitch) * steps_per_rev_x #num of steps to take to move to next scanned region\n",
    "        x_dist += gran #determining x position\n",
    "        x_pos = x_dist + (ZeroX - Length_L)\n",
    "        inputmovex = 'x,' + str(move_x) + ',0' #string formation to send to Arduino to move x motor right to next region\n",
    "        print('x =', end =\" \") #print progress update\n",
    "        print(x_pos)\n",
    "        ser.write(str.encode(inputmovex)) #send string to Arduino to move x motor\n",
    "        t=0\n",
    "        while t <= wait: #wait over area for specified amount of time so data can be collected\n",
    "            date = datetime.datetime.now().timestamp() #current unix timestamp\n",
    "            Time_and_Positions.write(\"%5.2f %5.2f %5.2f\\n\" % (date, x_pos , y_pos)) #write timestamp and x and y position to text file\n",
    "            time.sleep(1)\n",
    "            t += 1\n",
    "        \n",
    "    else:\n",
    "        if y_dist > 0:\n",
    "            #move motor to end right\n",
    "            inputmovex_toendR = 'xEND,' + '0' #string formation to send to Arduino to move x motor right to switch\n",
    "            print('xend') #print progress update\n",
    "            ser.write(str.encode(inputmovex_toendR)) #send string to Arduino\n",
    "            time.sleep(5)\n",
    "            #move motor to end left\n",
    "            inputmovex_toendL = 'xEND,' + '1' #string formation to send to Arduino to move x motor left to switch and count steps\n",
    "            print('xcount')\n",
    "            ser.write(str.encode(inputmovex_toendL)) #send string to Arduino\n",
    "            count=0 #wait for response from Arduino to get number of steps it took to get to the end \n",
    "            while count < 1: \n",
    "                stepsx_toend = (str(ser.readline()))\n",
    "                count +=1\n",
    "                \n",
    "            #if stepsx_toend != stepsx_tot:\n",
    "               # sys.exit(\"ERROR: System not calibrated. Total horizontal distnace different than calibration\")\n",
    "            \n",
    "            time.sleep(3)\n",
    "            \n",
    "            #move down a row\n",
    "            move_y = (gran/pitch) * steps_per_rev_y #num of steps to take to move down to next row of scanned region\n",
    "            y_dist -= gran #determining y position\n",
    "            x_dist = 0 #resetting x position back to 0\n",
    "            x_pos = x_dist + (ZeroX - Length_L)\n",
    "            y_pos = y_dist + (ZeroY - Height_B)\n",
    "            inputmovey = 'y,' + str(move_y) + ',0' #string formation to send to Arduino to move y motor down\n",
    "            print('y =', end =\" \") #print progress update\n",
    "            print(y_pos)\n",
    "            ser.write(str.encode(inputmovey)) #send string to Arduino\n",
    "            time.sleep(3)\n",
    "\n",
    "            #move back to starting x position on left side\n",
    "            reset = ZeroX - Length_L #distance needed to travel in x to start at beginning of scanning region from left side\n",
    "            move_x = (reset/pitch) * steps_per_rev_x #num of steps to take to move right to start of scanning region in x\n",
    "            inputmovex = 'x,' + str(move_x) + ',1' #string formation to send to Arduino to move x motor right\n",
    "            print('xreset') #print progress update\n",
    "            ser.write(str.encode(inputmovex)) #send string to Arduino\n",
    "            t=0\n",
    "            while t <= wait: #wait over area for specified amount of time so data can be collected\n",
    "                date = datetime.datetime.now().timestamp()\n",
    "                Time_and_Positions.write(\"%5.2f %5.2f %5.2f\\n\" % (date, x_pos , y_pos))\n",
    "                time.sleep(1)\n",
    "                t += 1\n",
    "        else:\n",
    "            inputmovey_toend = 'yEND,' + '0' #string formation to send to Arduino to move y motor down to switch and count steps\n",
    "            print('yend') #print progress update\n",
    "            ser.write(str.encode(inputmovey_toend)) #send string to Arduino\n",
    "            count=0\n",
    "            while count < 1: #wait for response from Arduino to get number of steps it took to get to the end\n",
    "                stepsy_toend = (str(ser.readline()))\n",
    "                count +=1\n",
    "                \n",
    "            #if stepsx_toend != stepsx_tot:\n",
    "               # sys.exit(\"ERROR: System not calibrated. Total horizontal distnace different than calibration\")  \n",
    "                \n",
    "            print(\"scan complete\")\n",
    "            Time_and_Positions.close() #close text file\n",
    "            break \n",
    "    "
   ]
  },
  {
   "cell_type": "code",
   "execution_count": 49,
   "metadata": {},
   "outputs": [
    {
     "name": "stdout",
     "output_type": "stream",
     "text": [
      "b'42\\r\\n'\n",
      "b'1662\\r\\n'\n"
     ]
    }
   ],
   "source": [
    "'''\n",
    "print(stepsx_toend)\n",
    "print(stepsy_toend)\n",
    "'''"
   ]
  },
  {
   "cell_type": "code",
   "execution_count": 43,
   "metadata": {},
   "outputs": [
    {
     "data": {
      "text/plain": [
       "\"\\n# reset to specified zero position\\n\\nreset_x = Length_R\\nreset_y = Height_B\\n\\nreset_stepsx = (reset_x/pitch) * steps_per_rev_x\\nreset_stepsy = (reset_y/pitch) * steps_per_rev_y\\n\\n\\ninputx=('x,' + str(reset_stepsx) + ',1')\\ninputy=('y,' + str(reset_stepsy) + ',1')\\n\\nser.write(str.encode(inputx))\\ntime.sleep(5)\\nser.write(str.encode(inputy))\\n\""
      ]
     },
     "execution_count": 43,
     "metadata": {},
     "output_type": "execute_result"
    }
   ],
   "source": [
    "# reset to specified zero position\n",
    "\n",
    "reset_x = Length_R\n",
    "reset_y = Height_B\n",
    "\n",
    "reset_stepsx = (reset_x/pitch) * steps_per_rev_x\n",
    "reset_stepsy = (reset_y/pitch) * steps_per_rev_y\n",
    "\n",
    "\n",
    "inputx=('x,' + str(reset_stepsx) + ',1')\n",
    "inputy=('y,' + str(reset_stepsy) + ',1')\n",
    "\n",
    "ser.write(str.encode(inputx))\n",
    "time.sleep(5)\n",
    "ser.write(str.encode(inputy))\n"
   ]
  },
  {
   "cell_type": "code",
   "execution_count": null,
   "metadata": {},
   "outputs": [],
   "source": []
  }
 ],
 "metadata": {
  "kernelspec": {
   "display_name": "Python 3",
   "language": "python",
   "name": "python3"
  },
  "language_info": {
   "codemirror_mode": {
    "name": "ipython",
    "version": 3
   },
   "file_extension": ".py",
   "mimetype": "text/x-python",
   "name": "python",
   "nbconvert_exporter": "python",
   "pygments_lexer": "ipython3",
   "version": "3.6.7"
  }
 },
 "nbformat": 4,
 "nbformat_minor": 2
}
